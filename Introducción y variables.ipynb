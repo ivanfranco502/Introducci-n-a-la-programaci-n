{
 "cells": [
  {
   "cell_type": "markdown",
   "metadata": {},
   "source": [
    "# Hello World!\n",
    "Añadamos la famosa línea *\"Hello World!\"*"
   ]
  },
  {
   "cell_type": "code",
   "execution_count": 40,
   "metadata": {},
   "outputs": [
    {
     "name": "stdout",
     "output_type": "stream",
     "text": [
      "Hello World!\n"
     ]
    }
   ],
   "source": [
    "message = \"Hello World!\"\n",
    "\n",
    "print(message)"
   ]
  },
  {
   "cell_type": "markdown",
   "metadata": {},
   "source": [
    "Acabamos de definir una variable llamada `message` cuyo valor/información es `Hello World!`.\n",
    "\n",
    "Básicamente, lo que estamos haciendo es que Python se convierta en un intérprete. En este caso, en la primera línea define la variable `message` y en la siguiente con el comando `print` nos lo muestra en pantalla.\n",
    "\n",
    "Veamos ahora algunas nociones de iniciación para programadores."
   ]
  },
  {
   "cell_type": "markdown",
   "metadata": {},
   "source": [
    "## Nomenclatura de variables\n",
    "\n",
    "Podría parecer un apartado muy poco relevante, pero a la hora de escribir el nombre de una variable se cometen muchos errores. Veamos una guía para hacer el código más limpio y entendible:\n",
    "\n",
    "- El nombre de las variables sólo contiene letras números y `_`. Nunca empiezan por un carácter numérico. Por ejemplo, el nombre `variable_1` estaría correcto pero no `1_variable`.\n",
    "\n",
    "- Los espacios no están permitidos en el nombre de las variables. Es decir, `variable_edad` estaría correcto pero `variable edad` no lo estaría.\n",
    "\n",
    "- Evitar *keywords* de Python como nombres de variables, por ejemplo, como crear una variable que se llame `print`.\n",
    "\n",
    "- Las variables serán en la medida de lo posible descriptivas y simples. \n",
    "\n",
    "- Python distingue entre mayúsculas y minúsculas por lo que es conveniente poner todo en minúsculas.\n",
    "\n",
    "Algunos ejemplos de errores:"
   ]
  },
  {
   "cell_type": "code",
   "execution_count": 47,
   "metadata": {},
   "outputs": [
    {
     "ename": "SyntaxError",
     "evalue": "invalid token (<ipython-input-47-51783fc498ab>, line 1)",
     "output_type": "error",
     "traceback": [
      "\u001b[1;36m  File \u001b[1;32m\"<ipython-input-47-51783fc498ab>\"\u001b[1;36m, line \u001b[1;32m1\u001b[0m\n\u001b[1;33m    1_variable = 'Hello'\u001b[0m\n\u001b[1;37m     ^\u001b[0m\n\u001b[1;31mSyntaxError\u001b[0m\u001b[1;31m:\u001b[0m invalid token\n"
     ]
    }
   ],
   "source": [
    "1_variable = 'Hello'"
   ]
  },
  {
   "cell_type": "code",
   "execution_count": 48,
   "metadata": {},
   "outputs": [],
   "source": [
    "variable_edad = 25"
   ]
  },
  {
   "cell_type": "code",
   "execution_count": 49,
   "metadata": {},
   "outputs": [
    {
     "ename": "SyntaxError",
     "evalue": "invalid syntax (<ipython-input-49-35292db17844>, line 1)",
     "output_type": "error",
     "traceback": [
      "\u001b[1;36m  File \u001b[1;32m\"<ipython-input-49-35292db17844>\"\u001b[1;36m, line \u001b[1;32m1\u001b[0m\n\u001b[1;33m    variable edad = 25\u001b[0m\n\u001b[1;37m                ^\u001b[0m\n\u001b[1;31mSyntaxError\u001b[0m\u001b[1;31m:\u001b[0m invalid syntax\n"
     ]
    }
   ],
   "source": [
    "variable edad = 25"
   ]
  },
  {
   "cell_type": "markdown",
   "metadata": {},
   "source": [
    "Para escribir comentarios en el código se utiliza `#`. Son muy importantes pues en la vida laboral los proyectos de programación pasan de una persona a otra y ahorra mucho tiempo el tener una explicación de lo que hace el código mediante comentarios."
   ]
  },
  {
   "cell_type": "markdown",
   "metadata": {},
   "source": [
    "## Interpretación de errores\n",
    "Siguiendo el hilo de los errores anteriores, todos y cada uno de los programadores del mundo cometemos errores cada día pero es de buen programador saber interpretarlos y resolverlos.\n",
    "\n",
    "Imaginemos que después de estar horas programando se nos olvida una `s` de nuestra variable `message`:"
   ]
  },
  {
   "cell_type": "code",
   "execution_count": 3,
   "metadata": {},
   "outputs": [
    {
     "ename": "NameError",
     "evalue": "name 'mesage' is not defined",
     "output_type": "error",
     "traceback": [
      "\u001b[1;31m---------------------------------------------------------------------------\u001b[0m",
      "\u001b[1;31mNameError\u001b[0m                                 Traceback (most recent call last)",
      "\u001b[1;32m<ipython-input-3-7ef61200e259>\u001b[0m in \u001b[0;36m<module>\u001b[1;34m()\u001b[0m\n\u001b[0;32m      1\u001b[0m \u001b[0mmessage\u001b[0m \u001b[1;33m=\u001b[0m \u001b[1;34m'Hi Lidia!'\u001b[0m\u001b[1;33m\u001b[0m\u001b[0m\n\u001b[1;32m----> 2\u001b[1;33m \u001b[0mprint\u001b[0m\u001b[1;33m(\u001b[0m\u001b[0mmesage\u001b[0m\u001b[1;33m)\u001b[0m\u001b[1;33m\u001b[0m\u001b[0m\n\u001b[0m",
      "\u001b[1;31mNameError\u001b[0m: name 'mesage' is not defined"
     ]
    }
   ],
   "source": [
    "message = 'Hi Lidia!'\n",
    "print(mesage)"
   ]
  },
  {
   "cell_type": "markdown",
   "metadata": {},
   "source": [
    "Una de las grandes ventajas de Python es que cada vez que tengamos un error nos indicará al menos la línea donde se encuentra por lo que podremos corregirlo fácilmente."
   ]
  },
  {
   "cell_type": "code",
   "execution_count": 4,
   "metadata": {},
   "outputs": [
    {
     "name": "stdout",
     "output_type": "stream",
     "text": [
      "Hi Lidia!\n"
     ]
    }
   ],
   "source": [
    "print(message)"
   ]
  },
  {
   "cell_type": "markdown",
   "metadata": {},
   "source": [
    "Cuando el código empieza a ser largo y complejo gracias a tener una buena nomenclatura de variables, entre otras cosas,  nos será más fácil resolver e identificar los errores. \n"
   ]
  },
  {
   "cell_type": "markdown",
   "metadata": {},
   "source": [
    "## Tipo de variable: cadenas de texto\n",
    "\n",
    "Veamos algunos comandos básicos de cadenas de texto:"
   ]
  },
  {
   "cell_type": "code",
   "execution_count": 6,
   "metadata": {},
   "outputs": [
    {
     "name": "stdout",
     "output_type": "stream",
     "text": [
      "Lidia Orts\n"
     ]
    }
   ],
   "source": [
    "# títulos\n",
    "name = 'Lidia Orts'\n",
    "print(name.title())"
   ]
  },
  {
   "cell_type": "code",
   "execution_count": 7,
   "metadata": {},
   "outputs": [
    {
     "name": "stdout",
     "output_type": "stream",
     "text": [
      "LIDIA ORTS\n"
     ]
    }
   ],
   "source": [
    "# letras en mayúsculas\n",
    "print(name.upper())"
   ]
  },
  {
   "cell_type": "code",
   "execution_count": 8,
   "metadata": {},
   "outputs": [
    {
     "name": "stdout",
     "output_type": "stream",
     "text": [
      "lidia orts\n"
     ]
    }
   ],
   "source": [
    "# letras en minúsculas\n",
    "print(name.lower())"
   ]
  },
  {
   "cell_type": "code",
   "execution_count": 10,
   "metadata": {},
   "outputs": [
    {
     "name": "stdout",
     "output_type": "stream",
     "text": [
      "Lidia Orts\n"
     ]
    }
   ],
   "source": [
    "# concatenación de cadenas\n",
    "first_name = 'Lidia'\n",
    "last_name = 'Orts'\n",
    "full_name = first_name + \" \" + last_name\n",
    "\n",
    "print(full_name)"
   ]
  },
  {
   "cell_type": "code",
   "execution_count": 12,
   "metadata": {},
   "outputs": [
    {
     "name": "stdout",
     "output_type": "stream",
     "text": [
      "Hola\n",
      "\tHola!\n"
     ]
    }
   ],
   "source": [
    "# añadimos un espacio con el comando \\t\n",
    "print('Hola')\n",
    "print(\"\\tHola!\")"
   ]
  },
  {
   "cell_type": "code",
   "execution_count": 14,
   "metadata": {},
   "outputs": [
    {
     "name": "stdout",
     "output_type": "stream",
     "text": [
      "Hola\n",
      "qué tal\n",
      "?\n"
     ]
    }
   ],
   "source": [
    "# añadimos una nueva línea con el comando \\n\n",
    "print('Hola\\nqué tal\\n?')"
   ]
  },
  {
   "cell_type": "markdown",
   "metadata": {},
   "source": [
    "Un problema muy común que podemos encontrar tratando con nombres de columnas, textos, variables de texto etc... es el problema de **espacios**. Tener una palabra/texto que tiene un espacio al final o al principio que a primera vista no conseguimos identificar. Una buena manera de resolverlo es utilizando `rstrip()` o `lstrip()` para derecha e iquierza respectivamente.  "
   ]
  },
  {
   "cell_type": "code",
   "execution_count": 52,
   "metadata": {},
   "outputs": [
    {
     "name": "stdout",
     "output_type": "stream",
     "text": [
      "español \n",
      "español\n",
      " ingles\n",
      "ingles\n"
     ]
    }
   ],
   "source": [
    "# Nos encontramos ante un problema de espacios por la derecha\n",
    "# reescribimos\n",
    "mi_lengua_materna = 'español '\n",
    "print(mi_lengua_materna)\n",
    "mi_lengua_materna = mi_lengua_materna.rstrip()\n",
    "mi_lengua_materna\n",
    "print(mi_lengua_materna)\n",
    "mi_segunda_lengua = ' ingles'\n",
    "print(mi_segunda_lengua)\n",
    "mi_segunda_lengua = mi_segunda_lengua.lstrip()\n",
    "print(mi_segunda_lengua)"
   ]
  },
  {
   "cell_type": "markdown",
   "metadata": {},
   "source": [
    "Otro posible error con el que nos podemos topar cuando escribimos cadenas de texto es el siguiente:"
   ]
  },
  {
   "cell_type": "code",
   "execution_count": 18,
   "metadata": {},
   "outputs": [
    {
     "ename": "SyntaxError",
     "evalue": "invalid syntax (<ipython-input-18-883a83fd1a2a>, line 1)",
     "output_type": "error",
     "traceback": [
      "\u001b[1;36m  File \u001b[1;32m\"<ipython-input-18-883a83fd1a2a>\"\u001b[1;36m, line \u001b[1;32m1\u001b[0m\n\u001b[1;33m    posible_error = 'Hi, I'm Lidia\u001b[0m\n\u001b[1;37m                           ^\u001b[0m\n\u001b[1;31mSyntaxError\u001b[0m\u001b[1;31m:\u001b[0m invalid syntax\n"
     ]
    }
   ],
   "source": [
    "posible_error = 'Hi, I'm Lidia"
   ]
  },
  {
   "cell_type": "markdown",
   "metadata": {},
   "source": [
    "Para corregirlo utilicemos un tipo de comillas para englobar el texto y otro tipo para los apóstrofes:"
   ]
  },
  {
   "cell_type": "code",
   "execution_count": 53,
   "metadata": {},
   "outputs": [
    {
     "name": "stdout",
     "output_type": "stream",
     "text": [
      "Hi, I'm Lidia\n"
     ]
    }
   ],
   "source": [
    "corregir_error = \"Hi, I'm Lidia\"\n",
    "print(corregir_error)"
   ]
  },
  {
   "cell_type": "markdown",
   "metadata": {},
   "source": [
    "## Tipo de variable:  numérica\n",
    "\n",
    "Las variables numéricas son utilizadas continuamente en programación. Como en el mundo matemático, existen los números reales (`float`), los enteros(`int`) y los complejos(`commplex`). \n",
    "\n",
    "**Nota**: Una función que vamos a utilizar es `type` que nos indica la tipología de la variable."
   ]
  },
  {
   "cell_type": "code",
   "execution_count": 54,
   "metadata": {},
   "outputs": [
    {
     "data": {
      "text/plain": [
       "int"
      ]
     },
     "execution_count": 54,
     "metadata": {},
     "output_type": "execute_result"
    }
   ],
   "source": [
    "# entero\n",
    "x = 3\n",
    "type(x)"
   ]
  },
  {
   "cell_type": "code",
   "execution_count": 55,
   "metadata": {},
   "outputs": [
    {
     "data": {
      "text/plain": [
       "float"
      ]
     },
     "execution_count": 55,
     "metadata": {},
     "output_type": "execute_result"
    }
   ],
   "source": [
    "# real / float\n",
    "y = 3.5\n",
    "type(y)"
   ]
  },
  {
   "cell_type": "code",
   "execution_count": 61,
   "metadata": {},
   "outputs": [
    {
     "name": "stdout",
     "output_type": "stream",
     "text": [
      "(1+1j)\n",
      "(3+3.5j)\n"
     ]
    }
   ],
   "source": [
    "# complejo\n",
    "\n",
    "# manera1\n",
    "z = 1+1j\n",
    "print(z)\n",
    "z2 = complex(x,y)\n",
    "print(z2)"
   ]
  },
  {
   "cell_type": "code",
   "execution_count": 62,
   "metadata": {},
   "outputs": [
    {
     "name": "stdout",
     "output_type": "stream",
     "text": [
      "SUMA 6.5\n",
      "RESTA -0.5\n",
      "MULTIPLICACIÓN 10.5\n",
      "DIVISIÓN 0.8571428571428571\n",
      "EXPONENCIAL 46.76537180435969\n"
     ]
    }
   ],
   "source": [
    "print('SUMA', x + y)\n",
    "print('RESTA', x - y)\n",
    "print('MULTIPLICACIÓN', x*y)\n",
    "print('DIVISIÓN', x/y)\n",
    "print('EXPONENCIAL', x**y)"
   ]
  },
  {
   "cell_type": "markdown",
   "metadata": {},
   "source": [
    "## Mensajes combinados de variables de distinto tipo\n",
    "\n",
    "Es útil cuando damos un resultado o hacemos alguna explicación mostrar en pantalla un mensaje que combine distintos tipos de variables. Es muy sencillo."
   ]
  },
  {
   "cell_type": "code",
   "execution_count": 63,
   "metadata": {},
   "outputs": [
    {
     "name": "stdout",
     "output_type": "stream",
     "text": [
      "I am 25 years old\n"
     ]
    }
   ],
   "source": [
    "age = 25\n",
    "print('I am',age,'years old')"
   ]
  },
  {
   "cell_type": "code",
   "execution_count": 65,
   "metadata": {},
   "outputs": [
    {
     "name": "stdout",
     "output_type": "stream",
     "text": [
      "I am 25 years old\n"
     ]
    }
   ],
   "source": [
    "x = 'I am ' +  str(age) + ' years old'\n",
    "print(x)"
   ]
  },
  {
   "cell_type": "markdown",
   "metadata": {},
   "source": [
    "**Nota**:\n",
    "Utilizamos el comando `str` para que todo lo que le metamos pase a ser cadena de texto. A su vez, si tenemos una cadena de texto que puede ser interpretada como numérica utilizamos el comando `int` o `float`."
   ]
  },
  {
   "cell_type": "code",
   "execution_count": 67,
   "metadata": {},
   "outputs": [
    {
     "name": "stdout",
     "output_type": "stream",
     "text": [
      "25\n"
     ]
    },
    {
     "data": {
      "text/plain": [
       "int"
      ]
     },
     "execution_count": 67,
     "metadata": {},
     "output_type": "execute_result"
    }
   ],
   "source": [
    "x = '25'\n",
    "x = int(x)\n",
    "print(x)\n",
    "type(x)"
   ]
  },
  {
   "cell_type": "markdown",
   "metadata": {},
   "source": [
    "## The Zen of Python "
   ]
  },
  {
   "cell_type": "markdown",
   "metadata": {},
   "source": [
    "En Python siempre trabajaremos con librerías, librerías de estadística, de manipulación de tablas, de análisis de texto etc... Siempre se importan de la misma manera, veamos un ejemplo con la librería `this` un escrito de `Tim Peters`, ingeniero de software y uno de los mayores contribuidores de la creación del lenguaje Python :)"
   ]
  },
  {
   "cell_type": "code",
   "execution_count": 70,
   "metadata": {},
   "outputs": [],
   "source": [
    "import this"
   ]
  },
  {
   "cell_type": "markdown",
   "metadata": {},
   "source": [
    "Python programmers embrace the notion that code can be beautiful\n",
    "and elegant. In programming, people solve problems. Programmers have\n",
    "always respected well-designed, efficient, and even beautiful solutions to\n",
    "problems. As you learn more about Python and use it to write more code,\n",
    "someone might look over your shoulder one day and say, “Wow, that’s some\n",
    "beautiful code!”\n",
    "\n",
    "If you have a choice between a simple and a complex solution, and both\n",
    "work, use the simple solution. Your code will be easier to maintain, and it\n",
    "will be easier for you and others to build on that code later on.\n",
    "\n",
    "Real life is messy, and sometimes a simple solution to a problem is unattainable.\n",
    "In that case, use the simplest solution that works.\n",
    "\n",
    "Even when your code is complex, aim to make it readable. When you’re\n",
    "working on a project that involves complex coding, focus on writing informative\n",
    "comments for that code.\n",
    "\n",
    "If two Python programmers are asked to solve the same problem, they\n",
    "should come up with fairly compatible solutions. This is not to say there’s\n",
    "no room for creativity in programming. On the contrary! But much of programming\n",
    "consists of using small, common approaches to simple situations\n",
    "within a larger, more creative project. The nuts and bolts of your programs\n",
    "should make sense to other Python programmers.\n",
    "\n",
    "\n",
    "You could spend the rest of your life learning all the intricacies of\n",
    "Python and of programming in general, but then you’d never complete any\n",
    "projects. Don’t try to write perfect code; write code that works, and then\n",
    "decide whether to improve your code for that project or move on to something\n",
    "new.\n",
    "\n",
    "As you continue to the next chapter and start digging into more\n",
    "involved topics, try to keep this philosophy of simplicity and clarity in\n",
    "mind. Experienced programmers will respect your code more and will\n",
    "be happy to give you feedback and collaborate with you on interesting\n",
    "projects."
   ]
  },
  {
   "cell_type": "code",
   "execution_count": null,
   "metadata": {},
   "outputs": [],
   "source": []
  }
 ],
 "metadata": {
  "kernelspec": {
   "display_name": "Python 3",
   "language": "python",
   "name": "python3"
  },
  "language_info": {
   "codemirror_mode": {
    "name": "ipython",
    "version": 3
   },
   "file_extension": ".py",
   "mimetype": "text/x-python",
   "name": "python",
   "nbconvert_exporter": "python",
   "pygments_lexer": "ipython3",
   "version": "3.6.5"
  }
 },
 "nbformat": 4,
 "nbformat_minor": 2
}
