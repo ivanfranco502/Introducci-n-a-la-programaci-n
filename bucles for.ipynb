{
 "cells": [
  {
   "cell_type": "markdown",
   "metadata": {},
   "source": [
    "## Bucles `for`\n",
    "Imaginemos que tenemos una lista de números y queremos realizar la misma operación para cada numéro de la lista, o un problema análogo que sería aplicar el comando `print` a cada elemento de la lista, es decir, una acción de mostrar en la pantalla el elemento de la lista. Utilizaremos los famosos bucles `for`. \n",
    "\n",
    "Veamos un ejemplo:"
   ]
  },
  {
   "cell_type": "code",
   "execution_count": 1,
   "metadata": {},
   "outputs": [
    {
     "name": "stdout",
     "output_type": "stream",
     "text": [
      "Lidia\n",
      "Pedro\n",
      "Paqui\n"
     ]
    }
   ],
   "source": [
    "lista1 = ['Lidia','Pedro','Paqui']\n",
    "for i in lista1:   #(1)\n",
    "    print(i)       # (2)"
   ]
  },
  {
   "cell_type": "markdown",
   "metadata": {},
   "source": [
    "En el apartado (1) simplemente definimos el recorrido del bucle, nuestro corredor será la `i` y tomará todos los valores de la lista por orden. Mientras que en el apartado (2) le decimos la acción que quiere que haga, en este caso, mostrar en pantalla.\n",
    "\n",
    "El concepto de bucle es importante pues es uno de los elementos más usados para realizar tareas automáticas. La idea básica es que realizamos la misma tarea sobre todos los elementos de las listas. \n",
    "\n",
    "Veamos otro ejemplo numérico:"
   ]
  },
  {
   "cell_type": "code",
   "execution_count": 3,
   "metadata": {},
   "outputs": [
    {
     "name": "stdout",
     "output_type": "stream",
     "text": [
      "2\n",
      "3\n",
      "4\n"
     ]
    }
   ],
   "source": [
    "lista2 = [1,2,3]\n",
    "# OPERACIÓN: SUMAR 1 y mostrar en pantalla\n",
    "\n",
    "for i in lista2:\n",
    "    x = i + 1\n",
    "    print(x)"
   ]
  },
  {
   "cell_type": "markdown",
   "metadata": {},
   "source": [
    "Veamos el bucle anterior, con la peculiaridad de que añadamos a una lista vacía el resultado:\n",
    "\n",
    "**Nota:** Cuando creamos una lista vacía y la rellenamos de elementos nos lo debemos imaginar como una caja vacía a la cual introducimos cosas, si no hay caja no hay lugar donde introducir. Por ello la importancia siempre de definir la lista vacía. "
   ]
  },
  {
   "cell_type": "code",
   "execution_count": 4,
   "metadata": {},
   "outputs": [
    {
     "name": "stdout",
     "output_type": "stream",
     "text": [
      "[2, 3, 4]\n"
     ]
    }
   ],
   "source": [
    "lista2 = [1,2,3]\n",
    "lista3 = []\n",
    "for i in lista2:\n",
    "    x = i + 1\n",
    "    lista3.append(x)\n",
    "print(lista3)"
   ]
  },
  {
   "cell_type": "markdown",
   "metadata": {},
   "source": [
    "La primera parte del bucle es similar al anterior, definimos $x$ que es la suma del elemento correspondiente más una unidad y posteriormente introducimos en la lista."
   ]
  },
  {
   "cell_type": "markdown",
   "metadata": {},
   "source": [
    "#### Concepto de `range`\n",
    "\n",
    "Introducimos con los bucles `for` el concepto de range puesto que nos crea una serie numérica. Veamos un ejemplo:"
   ]
  },
  {
   "cell_type": "code",
   "execution_count": 6,
   "metadata": {},
   "outputs": [
    {
     "name": "stdout",
     "output_type": "stream",
     "text": [
      "0\n",
      "1\n"
     ]
    }
   ],
   "source": [
    "for i in range(2):\n",
    "    print(i)"
   ]
  },
  {
   "cell_type": "code",
   "execution_count": 7,
   "metadata": {},
   "outputs": [
    {
     "name": "stdout",
     "output_type": "stream",
     "text": [
      "1\n",
      "2\n",
      "3\n",
      "4\n"
     ]
    }
   ],
   "source": [
    "for i in range(1,5):\n",
    "    print(i)"
   ]
  },
  {
   "cell_type": "markdown",
   "metadata": {},
   "source": [
    "Gracias a esta función podemos crear una lista de números, aplicandole el comando `list` a `range`:"
   ]
  },
  {
   "cell_type": "code",
   "execution_count": 8,
   "metadata": {},
   "outputs": [
    {
     "data": {
      "text/plain": [
       "[0, 1]"
      ]
     },
     "execution_count": 8,
     "metadata": {},
     "output_type": "execute_result"
    }
   ],
   "source": [
    "list(range(2))"
   ]
  },
  {
   "cell_type": "markdown",
   "metadata": {},
   "source": [
    "También podemos crear nuestras propias versiones de series numéricas marcándole la longitud de paso (distancia entre cada número):"
   ]
  },
  {
   "cell_type": "code",
   "execution_count": 9,
   "metadata": {},
   "outputs": [
    {
     "data": {
      "text/plain": [
       "[2, 4, 6, 8, 10]"
      ]
     },
     "execution_count": 9,
     "metadata": {},
     "output_type": "execute_result"
    }
   ],
   "source": [
    "list(range(2,11,2))"
   ]
  },
  {
   "cell_type": "markdown",
   "metadata": {},
   "source": [
    "Recordamos que los índices de Python comienzan en 0 y no en 1.\n",
    "\n",
    "Veamos ahora un ejemplo con un bucle `for` que nos muestre el cuadrado del elemento teniendo en cuenta que el rango será de 1 a 10."
   ]
  },
  {
   "cell_type": "code",
   "execution_count": 10,
   "metadata": {},
   "outputs": [
    {
     "name": "stdout",
     "output_type": "stream",
     "text": [
      "[1, 4, 9, 16, 25, 36, 49, 64, 81, 100]\n"
     ]
    }
   ],
   "source": [
    "squares = []\n",
    "for value in range(1,11):\n",
    "    square = value**2\n",
    "    squares.append(square)\n",
    "print(squares)"
   ]
  },
  {
   "cell_type": "markdown",
   "metadata": {},
   "source": [
    "La función `range` también es muy utilizada cuando queremos recorrer los índices de una lista (que no son sus elementos). \n",
    "Veamos el bucle paso a paso:\n",
    "\n",
    "        - En primer lugar, creamos una lista numérica"
   ]
  },
  {
   "cell_type": "code",
   "execution_count": 26,
   "metadata": {},
   "outputs": [],
   "source": [
    "lista4 = [11,22,33,44]\n"
   ]
  },
  {
   "cell_type": "markdown",
   "metadata": {},
   "source": [
    "       - Seguidamente, averigüemos la longitud de la lista"
   ]
  },
  {
   "cell_type": "code",
   "execution_count": 27,
   "metadata": {},
   "outputs": [
    {
     "data": {
      "text/plain": [
       "4"
      ]
     },
     "execution_count": 27,
     "metadata": {},
     "output_type": "execute_result"
    }
   ],
   "source": [
    "len(lista4)"
   ]
  },
  {
   "cell_type": "markdown",
   "metadata": {},
   "source": [
    "      - Creemos con la función `range` y la función `list` una lista de la longitud de nuestra lista para así poder recorrer nuestros índices correctamente."
   ]
  },
  {
   "cell_type": "code",
   "execution_count": 28,
   "metadata": {},
   "outputs": [
    {
     "data": {
      "text/plain": [
       "range(0, 4)"
      ]
     },
     "execution_count": 28,
     "metadata": {},
     "output_type": "execute_result"
    }
   ],
   "source": [
    "range(len(lista4))"
   ]
  },
  {
   "cell_type": "code",
   "execution_count": 29,
   "metadata": {},
   "outputs": [
    {
     "name": "stdout",
     "output_type": "stream",
     "text": [
      "[0, 1, 2, 3]\n"
     ]
    }
   ],
   "source": [
    "L=list(range(len(lista4)))\n",
    "\n",
    "print(L)"
   ]
  },
  {
   "cell_type": "markdown",
   "metadata": {},
   "source": [
    "     - Creemos el bucle for, donde vamos a modificar la lista: nuestros elementos pasan a nuestros elementos multiplicados + 1"
   ]
  },
  {
   "cell_type": "code",
   "execution_count": 30,
   "metadata": {},
   "outputs": [
    {
     "name": "stdout",
     "output_type": "stream",
     "text": [
      "0\n",
      "1\n",
      "2\n",
      "3\n"
     ]
    }
   ],
   "source": [
    "# recordemos \n",
    "print(L[0])\n",
    "print(L[1])\n",
    "print(L[2])\n",
    "print(L[3])"
   ]
  },
  {
   "cell_type": "code",
   "execution_count": 31,
   "metadata": {},
   "outputs": [
    {
     "name": "stdout",
     "output_type": "stream",
     "text": [
      "[12, 23, 34, 45]\n"
     ]
    }
   ],
   "source": [
    "# creamos bucle\n",
    "for i in L:\n",
    "    lista4[i] = lista4[i] + 1\n",
    "print(lista4)"
   ]
  },
  {
   "cell_type": "markdown",
   "metadata": {},
   "source": [
    "#### Ejemplo de `for` anidados\n",
    "\n",
    "Veamos un ejemplo que incluya complejidad de `for` y complejidad de listas.\n",
    "\n",
    "Veamos paso a paso:\n",
    "\n",
    "Paso 1. Tenemos una lista cuyos elementos a su vez son listas (no asustarse jeje)"
   ]
  },
  {
   "cell_type": "code",
   "execution_count": 32,
   "metadata": {},
   "outputs": [],
   "source": [
    "lista = [[1,2],[3,4],[5,6]]"
   ]
  },
  {
   "cell_type": "code",
   "execution_count": 33,
   "metadata": {},
   "outputs": [
    {
     "name": "stdout",
     "output_type": "stream",
     "text": [
      "[1, 2]\n",
      "[3, 4]\n",
      "[5, 6]\n"
     ]
    }
   ],
   "source": [
    "# recorramos la lista\n",
    "for i in lista:\n",
    "    print(i)"
   ]
  },
  {
   "cell_type": "code",
   "execution_count": 34,
   "metadata": {},
   "outputs": [
    {
     "name": "stdout",
     "output_type": "stream",
     "text": [
      "[1, 2]\n",
      "[3, 4]\n",
      "[5, 6]\n"
     ]
    }
   ],
   "source": [
    "# veamos manualmente los índices\n",
    "print(lista[0])\n",
    "print(lista[1])\n",
    "print(lista[2])"
   ]
  },
  {
   "cell_type": "markdown",
   "metadata": {},
   "source": [
    "Puesto que son listas de listas, los elementos son tratados como tal y por tanto también podemos acceder a los elementos de mis sublistas."
   ]
  },
  {
   "cell_type": "code",
   "execution_count": 35,
   "metadata": {},
   "outputs": [
    {
     "data": {
      "text/plain": [
       "[1, 2]"
      ]
     },
     "execution_count": 35,
     "metadata": {},
     "output_type": "execute_result"
    }
   ],
   "source": [
    "lista[0]"
   ]
  },
  {
   "cell_type": "code",
   "execution_count": 36,
   "metadata": {},
   "outputs": [
    {
     "data": {
      "text/plain": [
       "1"
      ]
     },
     "execution_count": 36,
     "metadata": {},
     "output_type": "execute_result"
    }
   ],
   "source": [
    "lista[0][0]"
   ]
  },
  {
   "cell_type": "code",
   "execution_count": 38,
   "metadata": {},
   "outputs": [
    {
     "data": {
      "text/plain": [
       "2"
      ]
     },
     "execution_count": 38,
     "metadata": {},
     "output_type": "execute_result"
    }
   ],
   "source": [
    "lista[0][1]"
   ]
  },
  {
   "cell_type": "markdown",
   "metadata": {},
   "source": [
    "El elemento $[1,2]$ tiene dos índices 0 y 1. Por tanto, podemos recorrer doblemente la lista y luego las sublistas con `for` anidados:"
   ]
  },
  {
   "cell_type": "code",
   "execution_count": 40,
   "metadata": {},
   "outputs": [
    {
     "name": "stdout",
     "output_type": "stream",
     "text": [
      "[1, 2]\n",
      "1\n",
      "2\n",
      "[3, 4]\n",
      "3\n",
      "4\n",
      "[5, 6]\n",
      "5\n",
      "6\n"
     ]
    }
   ],
   "source": [
    "for i in lista:\n",
    "    print(i)\n",
    "    for j in i:\n",
    "        print(j)"
   ]
  },
  {
   "cell_type": "markdown",
   "metadata": {},
   "source": [
    "Estamos recorriendo una matriz básicamente, fila $i$ y luego el elemento $i_0$ e $i_1$."
   ]
  },
  {
   "cell_type": "markdown",
   "metadata": {},
   "source": [
    "#### Ejemplo con `print`"
   ]
  },
  {
   "cell_type": "markdown",
   "metadata": {},
   "source": [
    "Siguiendo el hilo del bucle anterior, hagamos un bucle que nos muestre el siguiente mensaje en pantalla: *El elemento i tiene como subelementos i_0 e i_1*"
   ]
  },
  {
   "cell_type": "code",
   "execution_count": 42,
   "metadata": {},
   "outputs": [
    {
     "name": "stdout",
     "output_type": "stream",
     "text": [
      "El elemento [1, 2] tiene dos subelementos:\n",
      "1\n",
      "2\n",
      "El elemento [3, 4] tiene dos subelementos:\n",
      "3\n",
      "4\n",
      "El elemento [5, 6] tiene dos subelementos:\n",
      "5\n",
      "6\n"
     ]
    }
   ],
   "source": [
    "for i in lista:\n",
    "    print('El elemento',i, 'tiene dos subelementos:')\n",
    "    for j in i:\n",
    "        print(j)"
   ]
  },
  {
   "cell_type": "code",
   "execution_count": 45,
   "metadata": {},
   "outputs": [
    {
     "name": "stdout",
     "output_type": "stream",
     "text": [
      "El elemento 1 pertenece al conjunto [1, 2]\n",
      "El elemento 2 pertenece al conjunto [1, 2]\n",
      "El elemento 3 pertenece al conjunto [3, 4]\n",
      "El elemento 4 pertenece al conjunto [3, 4]\n",
      "El elemento 5 pertenece al conjunto [5, 6]\n",
      "El elemento 6 pertenece al conjunto [5, 6]\n"
     ]
    }
   ],
   "source": [
    "for i in lista:\n",
    "    for j in i:\n",
    "        print('El elemento',j, 'pertenece al conjunto',i)\n"
   ]
  },
  {
   "cell_type": "code",
   "execution_count": 47,
   "metadata": {},
   "outputs": [
    {
     "name": "stdout",
     "output_type": "stream",
     "text": [
      "La suma del elemento [1, 2] es 3\n",
      "La suma del elemento [3, 4] es 7\n",
      "La suma del elemento [5, 6] es 11\n"
     ]
    }
   ],
   "source": [
    "for i in lista:\n",
    "    print('La suma del elemento',i, 'es',sum(i))\n"
   ]
  },
  {
   "cell_type": "markdown",
   "metadata": {},
   "source": [
    "Acabamos de introducir la función `sum` que junto a otras lo veremos en scripts posteriores! :)"
   ]
  },
  {
   "cell_type": "code",
   "execution_count": null,
   "metadata": {},
   "outputs": [],
   "source": []
  }
 ],
 "metadata": {
  "kernelspec": {
   "display_name": "Python 3",
   "language": "python",
   "name": "python3"
  },
  "language_info": {
   "codemirror_mode": {
    "name": "ipython",
    "version": 3
   },
   "file_extension": ".py",
   "mimetype": "text/x-python",
   "name": "python",
   "nbconvert_exporter": "python",
   "pygments_lexer": "ipython3",
   "version": "3.6.5"
  }
 },
 "nbformat": 4,
 "nbformat_minor": 2
}
